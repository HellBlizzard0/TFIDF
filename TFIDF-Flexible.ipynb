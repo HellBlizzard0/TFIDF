{
 "metadata": {
  "language_info": {
   "codemirror_mode": {
    "name": "ipython",
    "version": 3
   },
   "file_extension": ".py",
   "mimetype": "text/x-python",
   "name": "python",
   "nbconvert_exporter": "python",
   "pygments_lexer": "ipython3",
   "version": "3.8.7-final"
  },
  "orig_nbformat": 2,
  "kernelspec": {
   "name": "python3",
   "display_name": "Python 3.8.7 64-bit",
   "metadata": {
    "interpreter": {
     "hash": "561b3dc2c9a801717f6f9d0e6b647e143d6324248f27ed78c4b51403179ac88f"
    }
   }
  }
 },
 "nbformat": 4,
 "nbformat_minor": 2,
 "cells": [
  {
   "source": [
    "# Disclosure\n",
    "This code is a modified version of TFIDF.ipynb that is created by mayank408 from Github. All credits goes to them.\n",
    "\n",
    "I made the code flexible to accept a variable number of documents."
   ],
   "cell_type": "markdown",
   "metadata": {}
  },
  {
   "cell_type": "code",
   "execution_count": 1,
   "metadata": {},
   "outputs": [],
   "source": [
    "docs = [\n",
    "    'Science has expanded the quality of human life',\n",
    "    'Human uses advances in material sciences to improve their lives',\n",
    "    'Boeing uses many alloy materials to create this model of airplanes'\n",
    "]"
   ]
  },
  {
   "cell_type": "code",
   "execution_count": 9,
   "metadata": {},
   "outputs": [],
   "source": [
    "bows = []\n",
    "for i in range(len(docs)):\n",
    "    bows.append(docs[i].split(\" \"))"
   ]
  },
  {
   "cell_type": "code",
   "execution_count": 11,
   "metadata": {},
   "outputs": [
    {
     "output_type": "execute_result",
     "data": {
      "text/plain": [
       "['Science', 'has', 'expanded', 'the', 'quality', 'of', 'human', 'life']"
      ]
     },
     "metadata": {},
     "execution_count": 11
    }
   ],
   "source": [
    "bows[0]"
   ]
  },
  {
   "cell_type": "code",
   "execution_count": 13,
   "metadata": {},
   "outputs": [],
   "source": [
    "wordSet = ''\n",
    "for bow in bows:\n",
    "    wordSet = set(wordSet).union(set(bow))"
   ]
  },
  {
   "cell_type": "code",
   "execution_count": 14,
   "metadata": {},
   "outputs": [
    {
     "output_type": "execute_result",
     "data": {
      "text/plain": [
       "{'Boeing',\n",
       " 'Human',\n",
       " 'Science',\n",
       " 'advances',\n",
       " 'airplanes',\n",
       " 'alloy',\n",
       " 'create',\n",
       " 'expanded',\n",
       " 'has',\n",
       " 'human',\n",
       " 'improve',\n",
       " 'in',\n",
       " 'life',\n",
       " 'lives',\n",
       " 'many',\n",
       " 'material',\n",
       " 'materials',\n",
       " 'model',\n",
       " 'of',\n",
       " 'quality',\n",
       " 'sciences',\n",
       " 'the',\n",
       " 'their',\n",
       " 'this',\n",
       " 'to',\n",
       " 'uses'}"
      ]
     },
     "metadata": {},
     "execution_count": 14
    }
   ],
   "source": [
    "wordSet"
   ]
  },
  {
   "cell_type": "code",
   "execution_count": 32,
   "metadata": {},
   "outputs": [],
   "source": [
    "wordDicts = []\n",
    "for i in range(len(bows)):\n",
    "    wordDicts.append(dict.fromkeys(wordSet, 0))"
   ]
  },
  {
   "cell_type": "code",
   "execution_count": 33,
   "metadata": {},
   "outputs": [
    {
     "output_type": "execute_result",
     "data": {
      "text/plain": [
       "[{'the': 0,\n",
       "  'life': 0,\n",
       "  'material': 0,\n",
       "  'human': 0,\n",
       "  'alloy': 0,\n",
       "  'in': 0,\n",
       "  'uses': 0,\n",
       "  'this': 0,\n",
       "  'lives': 0,\n",
       "  'Boeing': 0,\n",
       "  'of': 0,\n",
       "  'Human': 0,\n",
       "  'improve': 0,\n",
       "  'expanded': 0,\n",
       "  'airplanes': 0,\n",
       "  'advances': 0,\n",
       "  'their': 0,\n",
       "  'sciences': 0,\n",
       "  'to': 0,\n",
       "  'materials': 0,\n",
       "  'quality': 0,\n",
       "  'create': 0,\n",
       "  'many': 0,\n",
       "  'has': 0,\n",
       "  'model': 0,\n",
       "  'Science': 0},\n",
       " {'the': 0,\n",
       "  'life': 0,\n",
       "  'material': 0,\n",
       "  'human': 0,\n",
       "  'alloy': 0,\n",
       "  'in': 0,\n",
       "  'uses': 0,\n",
       "  'this': 0,\n",
       "  'lives': 0,\n",
       "  'Boeing': 0,\n",
       "  'of': 0,\n",
       "  'Human': 0,\n",
       "  'improve': 0,\n",
       "  'expanded': 0,\n",
       "  'airplanes': 0,\n",
       "  'advances': 0,\n",
       "  'their': 0,\n",
       "  'sciences': 0,\n",
       "  'to': 0,\n",
       "  'materials': 0,\n",
       "  'quality': 0,\n",
       "  'create': 0,\n",
       "  'many': 0,\n",
       "  'has': 0,\n",
       "  'model': 0,\n",
       "  'Science': 0},\n",
       " {'the': 0,\n",
       "  'life': 0,\n",
       "  'material': 0,\n",
       "  'human': 0,\n",
       "  'alloy': 0,\n",
       "  'in': 0,\n",
       "  'uses': 0,\n",
       "  'this': 0,\n",
       "  'lives': 0,\n",
       "  'Boeing': 0,\n",
       "  'of': 0,\n",
       "  'Human': 0,\n",
       "  'improve': 0,\n",
       "  'expanded': 0,\n",
       "  'airplanes': 0,\n",
       "  'advances': 0,\n",
       "  'their': 0,\n",
       "  'sciences': 0,\n",
       "  'to': 0,\n",
       "  'materials': 0,\n",
       "  'quality': 0,\n",
       "  'create': 0,\n",
       "  'many': 0,\n",
       "  'has': 0,\n",
       "  'model': 0,\n",
       "  'Science': 0}]"
      ]
     },
     "metadata": {},
     "execution_count": 33
    }
   ],
   "source": [
    "wordDicts"
   ]
  },
  {
   "cell_type": "code",
   "execution_count": 34,
   "metadata": {},
   "outputs": [],
   "source": [
    "i = 0\n",
    "for bow in bows:\n",
    "    for word in bow:\n",
    "        wordDicts[i][word]+=1\n",
    "    i = i + 1"
   ]
  },
  {
   "cell_type": "code",
   "execution_count": 35,
   "metadata": {},
   "outputs": [
    {
     "output_type": "execute_result",
     "data": {
      "text/plain": [
       "{'the': 1,\n",
       " 'life': 1,\n",
       " 'material': 0,\n",
       " 'human': 1,\n",
       " 'alloy': 0,\n",
       " 'in': 0,\n",
       " 'uses': 0,\n",
       " 'this': 0,\n",
       " 'lives': 0,\n",
       " 'Boeing': 0,\n",
       " 'of': 1,\n",
       " 'Human': 0,\n",
       " 'improve': 0,\n",
       " 'expanded': 1,\n",
       " 'airplanes': 0,\n",
       " 'advances': 0,\n",
       " 'their': 0,\n",
       " 'sciences': 0,\n",
       " 'to': 0,\n",
       " 'materials': 0,\n",
       " 'quality': 1,\n",
       " 'create': 0,\n",
       " 'many': 0,\n",
       " 'has': 1,\n",
       " 'model': 0,\n",
       " 'Science': 1}"
      ]
     },
     "metadata": {},
     "execution_count": 35
    }
   ],
   "source": [
    "wordDicts[0]"
   ]
  },
  {
   "cell_type": "code",
   "execution_count": 36,
   "metadata": {},
   "outputs": [
    {
     "output_type": "execute_result",
     "data": {
      "text/plain": [
       "   the  life  material  human  alloy  in  uses  this  lives  Boeing  ...  \\\n",
       "0    1     1         0      1      0   0     0     0      0       0  ...   \n",
       "1    0     0         1      0      0   1     1     0      1       0  ...   \n",
       "2    0     0         0      0      1   0     1     1      0       1  ...   \n",
       "\n",
       "   their  sciences  to  materials  quality  create  many  has  model  Science  \n",
       "0      0         0   0          0        1       0     0    1      0        1  \n",
       "1      1         1   1          0        0       0     0    0      0        0  \n",
       "2      0         0   1          1        0       1     1    0      1        0  \n",
       "\n",
       "[3 rows x 26 columns]"
      ],
      "text/html": "<div>\n<style scoped>\n    .dataframe tbody tr th:only-of-type {\n        vertical-align: middle;\n    }\n\n    .dataframe tbody tr th {\n        vertical-align: top;\n    }\n\n    .dataframe thead th {\n        text-align: right;\n    }\n</style>\n<table border=\"1\" class=\"dataframe\">\n  <thead>\n    <tr style=\"text-align: right;\">\n      <th></th>\n      <th>the</th>\n      <th>life</th>\n      <th>material</th>\n      <th>human</th>\n      <th>alloy</th>\n      <th>in</th>\n      <th>uses</th>\n      <th>this</th>\n      <th>lives</th>\n      <th>Boeing</th>\n      <th>...</th>\n      <th>their</th>\n      <th>sciences</th>\n      <th>to</th>\n      <th>materials</th>\n      <th>quality</th>\n      <th>create</th>\n      <th>many</th>\n      <th>has</th>\n      <th>model</th>\n      <th>Science</th>\n    </tr>\n  </thead>\n  <tbody>\n    <tr>\n      <th>0</th>\n      <td>1</td>\n      <td>1</td>\n      <td>0</td>\n      <td>1</td>\n      <td>0</td>\n      <td>0</td>\n      <td>0</td>\n      <td>0</td>\n      <td>0</td>\n      <td>0</td>\n      <td>...</td>\n      <td>0</td>\n      <td>0</td>\n      <td>0</td>\n      <td>0</td>\n      <td>1</td>\n      <td>0</td>\n      <td>0</td>\n      <td>1</td>\n      <td>0</td>\n      <td>1</td>\n    </tr>\n    <tr>\n      <th>1</th>\n      <td>0</td>\n      <td>0</td>\n      <td>1</td>\n      <td>0</td>\n      <td>0</td>\n      <td>1</td>\n      <td>1</td>\n      <td>0</td>\n      <td>1</td>\n      <td>0</td>\n      <td>...</td>\n      <td>1</td>\n      <td>1</td>\n      <td>1</td>\n      <td>0</td>\n      <td>0</td>\n      <td>0</td>\n      <td>0</td>\n      <td>0</td>\n      <td>0</td>\n      <td>0</td>\n    </tr>\n    <tr>\n      <th>2</th>\n      <td>0</td>\n      <td>0</td>\n      <td>0</td>\n      <td>0</td>\n      <td>1</td>\n      <td>0</td>\n      <td>1</td>\n      <td>1</td>\n      <td>0</td>\n      <td>1</td>\n      <td>...</td>\n      <td>0</td>\n      <td>0</td>\n      <td>1</td>\n      <td>1</td>\n      <td>0</td>\n      <td>1</td>\n      <td>1</td>\n      <td>0</td>\n      <td>1</td>\n      <td>0</td>\n    </tr>\n  </tbody>\n</table>\n<p>3 rows × 26 columns</p>\n</div>"
     },
     "metadata": {},
     "execution_count": 36
    }
   ],
   "source": [
    "import pandas as pd\n",
    "pd.DataFrame(wordDicts)"
   ]
  },
  {
   "cell_type": "code",
   "execution_count": 30,
   "metadata": {},
   "outputs": [],
   "source": [
    "def computeTF(wordDict, bow):\n",
    "    tfDict = {}\n",
    "    bowCount = len(bow)\n",
    "    for word, count in wordDict.items():\n",
    "        tfDict[word] = count/float(bowCount)\n",
    "    return tfDict"
   ]
  },
  {
   "cell_type": "code",
   "execution_count": 37,
   "metadata": {},
   "outputs": [],
   "source": [
    "tfBow = []\n",
    "\n",
    "for i in range(len(wordDicts)):\n",
    "    tfBow.append(computeTF(wordDict[i], bows[i]))"
   ]
  },
  {
   "cell_type": "code",
   "execution_count": 38,
   "metadata": {},
   "outputs": [
    {
     "output_type": "execute_result",
     "data": {
      "text/plain": [
       "{'the': 0.375,\n",
       " 'life': 0.375,\n",
       " 'material': 0.125,\n",
       " 'human': 0.375,\n",
       " 'alloy': 0.125,\n",
       " 'in': 0.125,\n",
       " 'uses': 0.25,\n",
       " 'this': 0.125,\n",
       " 'lives': 0.125,\n",
       " 'Boeing': 0.125,\n",
       " 'of': 0.5,\n",
       " 'Human': 0.125,\n",
       " 'improve': 0.125,\n",
       " 'expanded': 0.375,\n",
       " 'airplanes': 0.125,\n",
       " 'advances': 0.125,\n",
       " 'their': 0.125,\n",
       " 'sciences': 0.125,\n",
       " 'to': 0.25,\n",
       " 'materials': 0.125,\n",
       " 'quality': 0.375,\n",
       " 'create': 0.125,\n",
       " 'many': 0.125,\n",
       " 'has': 0.375,\n",
       " 'model': 0.125,\n",
       " 'Science': 0.75}"
      ]
     },
     "metadata": {},
     "execution_count": 38
    }
   ],
   "source": [
    "tfBow[0]"
   ]
  },
  {
   "cell_type": "code",
   "execution_count": 39,
   "metadata": {},
   "outputs": [],
   "source": [
    "def computeIDF(docList):\n",
    "    import math\n",
    "    idfDict = {}\n",
    "    N = len(docList)\n",
    "    \n",
    "    idfDict = dict.fromkeys(docList[0].keys(), 0)\n",
    "    for doc in docList:\n",
    "        for word, val in doc.items():\n",
    "            if val > 0:\n",
    "                idfDict[word] += 1\n",
    "    \n",
    "    for word, val in idfDict.items():\n",
    "        idfDict[word] = math.log10(N / float(val))\n",
    "        \n",
    "    return idfDict "
   ]
  },
  {
   "cell_type": "code",
   "execution_count": 40,
   "metadata": {},
   "outputs": [],
   "source": [
    "idfs = computeIDF(wordDicts)"
   ]
  },
  {
   "cell_type": "code",
   "execution_count": 41,
   "metadata": {},
   "outputs": [],
   "source": [
    "def computeTFIDF(tfBow, idfs):\n",
    "    tfidf = {}\n",
    "    for word, val in tfBow.items():\n",
    "        tfidf[word] = val*idfs[word]\n",
    "    return tfidf\n",
    "    "
   ]
  },
  {
   "cell_type": "code",
   "execution_count": 42,
   "metadata": {},
   "outputs": [],
   "source": [
    "tfidfBow = []\n",
    "\n",
    "for i in range(len(wordDicts)):\n",
    "    tfidfBow.append(computeTFIDF(tfBow[i], idfs))"
   ]
  },
  {
   "cell_type": "code",
   "execution_count": 43,
   "metadata": {},
   "outputs": [
    {
     "output_type": "execute_result",
     "data": {
      "text/plain": [
       "       the     life  material    human     alloy        in      uses  \\\n",
       "0  0.17892  0.17892  0.059640  0.17892  0.059640  0.059640  0.044023   \n",
       "1  0.00000  0.00000  0.095424  0.00000  0.000000  0.095424  0.035218   \n",
       "2  0.00000  0.00000  0.000000  0.00000  0.086749  0.000000  0.032017   \n",
       "\n",
       "       this     lives    Boeing  ...     their  sciences        to  materials  \\\n",
       "0  0.059640  0.059640  0.059640  ...  0.059640  0.059640  0.044023   0.059640   \n",
       "1  0.000000  0.095424  0.000000  ...  0.095424  0.095424  0.035218   0.000000   \n",
       "2  0.086749  0.000000  0.086749  ...  0.000000  0.000000  0.032017   0.086749   \n",
       "\n",
       "   quality    create      many       has     model   Science  \n",
       "0  0.17892  0.059640  0.059640  0.178920  0.059640  0.357841  \n",
       "1  0.00000  0.000000  0.000000  0.143136  0.000000  0.047712  \n",
       "2  0.00000  0.086749  0.086749  0.043375  0.086749  0.000000  \n",
       "\n",
       "[3 rows x 26 columns]"
      ],
      "text/html": "<div>\n<style scoped>\n    .dataframe tbody tr th:only-of-type {\n        vertical-align: middle;\n    }\n\n    .dataframe tbody tr th {\n        vertical-align: top;\n    }\n\n    .dataframe thead th {\n        text-align: right;\n    }\n</style>\n<table border=\"1\" class=\"dataframe\">\n  <thead>\n    <tr style=\"text-align: right;\">\n      <th></th>\n      <th>the</th>\n      <th>life</th>\n      <th>material</th>\n      <th>human</th>\n      <th>alloy</th>\n      <th>in</th>\n      <th>uses</th>\n      <th>this</th>\n      <th>lives</th>\n      <th>Boeing</th>\n      <th>...</th>\n      <th>their</th>\n      <th>sciences</th>\n      <th>to</th>\n      <th>materials</th>\n      <th>quality</th>\n      <th>create</th>\n      <th>many</th>\n      <th>has</th>\n      <th>model</th>\n      <th>Science</th>\n    </tr>\n  </thead>\n  <tbody>\n    <tr>\n      <th>0</th>\n      <td>0.17892</td>\n      <td>0.17892</td>\n      <td>0.059640</td>\n      <td>0.17892</td>\n      <td>0.059640</td>\n      <td>0.059640</td>\n      <td>0.044023</td>\n      <td>0.059640</td>\n      <td>0.059640</td>\n      <td>0.059640</td>\n      <td>...</td>\n      <td>0.059640</td>\n      <td>0.059640</td>\n      <td>0.044023</td>\n      <td>0.059640</td>\n      <td>0.17892</td>\n      <td>0.059640</td>\n      <td>0.059640</td>\n      <td>0.178920</td>\n      <td>0.059640</td>\n      <td>0.357841</td>\n    </tr>\n    <tr>\n      <th>1</th>\n      <td>0.00000</td>\n      <td>0.00000</td>\n      <td>0.095424</td>\n      <td>0.00000</td>\n      <td>0.000000</td>\n      <td>0.095424</td>\n      <td>0.035218</td>\n      <td>0.000000</td>\n      <td>0.095424</td>\n      <td>0.000000</td>\n      <td>...</td>\n      <td>0.095424</td>\n      <td>0.095424</td>\n      <td>0.035218</td>\n      <td>0.000000</td>\n      <td>0.00000</td>\n      <td>0.000000</td>\n      <td>0.000000</td>\n      <td>0.143136</td>\n      <td>0.000000</td>\n      <td>0.047712</td>\n    </tr>\n    <tr>\n      <th>2</th>\n      <td>0.00000</td>\n      <td>0.00000</td>\n      <td>0.000000</td>\n      <td>0.00000</td>\n      <td>0.086749</td>\n      <td>0.000000</td>\n      <td>0.032017</td>\n      <td>0.086749</td>\n      <td>0.000000</td>\n      <td>0.086749</td>\n      <td>...</td>\n      <td>0.000000</td>\n      <td>0.000000</td>\n      <td>0.032017</td>\n      <td>0.086749</td>\n      <td>0.00000</td>\n      <td>0.086749</td>\n      <td>0.086749</td>\n      <td>0.043375</td>\n      <td>0.086749</td>\n      <td>0.000000</td>\n    </tr>\n  </tbody>\n</table>\n<p>3 rows × 26 columns</p>\n</div>"
     },
     "metadata": {},
     "execution_count": 43
    }
   ],
   "source": [
    "import pandas as pd\n",
    "pd.DataFrame(tfidfBow)"
   ]
  }
 ]
}